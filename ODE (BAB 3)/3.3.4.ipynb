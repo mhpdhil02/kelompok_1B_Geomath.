{
 "cells": [
  {
   "cell_type": "markdown",
   "id": "f569b0d2",
   "metadata": {},
   "source": [
    "## 3.3.4 PERSAMAAN HERMITE"
   ]
  },
  {
   "cell_type": "markdown",
   "id": "727d7277",
   "metadata": {},
   "source": [
    "Persamaan diferensial orde $ n $ dari Hermite adalah\n",
    "$$y'' - 2xy' + 2ny = 0 \\quad \\text{untuk } n > 0$$\n",
    "(3.3.58)"
   ]
  },
  {
   "cell_type": "markdown",
   "id": "77ab485e",
   "metadata": {},
   "source": [
    "Sebuah solusi dari persamaan ini dapat ditemukan dengan mensubstitusikan deret pangkat untuk $ y $,\n",
    "$$y = \\sum_{m=0}^{\\infty} c_m x^m$$\n",
    "(3.3.60)"
   ]
  },
  {
   "cell_type": "markdown",
   "id": "12074207",
   "metadata": {},
   "source": [
    "sebagai solusi yang diasumsikan:\n",
    "$$\\sum_{m=0}^{\\infty} c_m m(m-1) x^{m-2} - 2 \\sum_{m=0}^{\\infty} c_m m x^m + 2n \\sum_{m=0}^{\\infty} c_m x^m = 0$$\n",
    "$$\\Rightarrow \\sum_{m=0}^{\\infty} [c_{m+2} (m+2)(m+1) x^m - 2 c_m m x^m + 2n c_m x^m] = 0$$\n",
    "(3.3.61)"
   ]
  },
  {
   "cell_type": "markdown",
   "id": "b7cb795d",
   "metadata": {},
   "source": [
    "Ini menghasilkan\n",
    "$$c_{m+2} = \\frac{2(m - n)}{(m+2)(m+1)} c_m \\quad \\text{untuk } m = 0, 1, 2, \\ldots \\text{: relasi rekurensi}$$\n",
    "(3.3.62)"
   ]
  },
  {
   "cell_type": "markdown",
   "id": "ff2c43f9",
   "metadata": {},
   "source": [
    "Dengan dua koefisien sewenang-wenang $ c_0 $ dan $ c_1 $, Persamaan (3.3.60) menghasilkan solusi umum sebagai\n",
    "$$y(x) = c_0 y_1(x) + c_1 y_2(x) = c_0 \\left[ 1 - \\frac{2}{2!} n x^2 + \\frac{2}{4!} n (n-2) x^4 - \\frac{2}{6!} n (n-2) (n-4) x^6 + \\cdots \\right]$$\n",
    "$$+ c_1 \\left[ x - \\frac{2}{3!} n x^3 + \\frac{2}{5!} n (n-2) x^5 - \\cdots \\right]$$\n",
    "(3.3.63)"
   ]
  },
  {
   "cell_type": "markdown",
   "id": "89fe85c8",
   "metadata": {},
   "source": [
    "Koefisien $ c_0 $ dan $ c_1 $ adalah bebas, dan\n",
    "$$c_0 = 0 \\quad \\text{dan } c_1 = (-2)^k n! / [n (n-2) \\cdots (n-2k+2)] \\quad \\text{untuk } n \\text{ genap}$$\n",
    "$$c_0 = 0 \\quad \\text{dan } c_1 = (-2)^k n! / [n (n-2) \\cdots (n-2k-1)] \\quad \\text{untuk } n \\text{ ganjil}$$\n",
    "(3.3.64)"
   ]
  },
  {
   "cell_type": "markdown",
   "id": "22a5df99",
   "metadata": {},
   "source": [
    "Persamaan (3.3.63) menjadi polinomial Hermite $ H_n(x) $ derajat $ n $. Polinomial Hermite pertama beberapa adalah\n",
    "$$\\begin{array}{ll}\n",
    "H_0(x) = 1 & H_1(x) = 2x \\\\\n",
    "H_2(x) = 4x^2 - 2 & H_3(x) = 8x^3 - 12x \\\\\n",
    "H_4(x) = 16x^4 - 48x^2 + 12 & H_5(x) = 32x^5 - 160x^3 + 120x\n",
    "\\end{array}$$\n",
    "(3.3.65)"
   ]
  },
  {
   "cell_type": "markdown",
   "id": "4ea067eb",
   "metadata": {},
   "source": [
    "Polinomial Chebyshev dari jenis pertama dapat dihasilkan dengan menggunakan relasi rekurensi tiga suku berikut:\n",
    "$$H_{n+1}(x) = 2x H_n(x) - 2n H_{n-1}(x) \\quad \\text{dengan } H_1(x) = 2x \\quad \\text{dan } H_0(x) = 1$$\n",
    "(3.3.66)"
   ]
  },
  {
   "cell_type": "markdown",
   "id": "bd9eba3d",
   "metadata": {},
   "source": [
    "atau dengan rumus tipe Rodrigues\n",
    "$$H_n(x) = (-1)^n e^{x^2} \\frac{d^n}{dx^n} e^{-x^2} \\quad \\text{untuk } n = 0, 1, 2, \\ldots$$\n",
    "(3.3.67)"
   ]
  },
  {
   "cell_type": "markdown",
   "id": "a0f82755",
   "metadata": {},
   "source": [
    "atau dengan rumus eksplisit\n",
    "$$H_n(x) = \\sum_{m=0}^{\\lfloor n/2 \\rfloor} (-1)^m \\frac{n!}{m! (n-2m)!} (2x)^{n-2m} \\quad \\text{untuk } n = 0, 1, 2, \\ldots$$\n",
    "(3.3.68)"
   ]
  },
  {
   "cell_type": "code",
   "execution_count": null,
   "id": "ea9023b6",
   "metadata": {},
   "outputs": [],
   "source": [
    "import numpy as np\n",
    "import matplotlib.pyplot as plt\n",
    "\n",
    "# Rentang domain x\n",
    "x = np.arange(-2, 0.1, 0.1)  # Domain dari -2 hingga 0 dengan langkah 0.1\n",
    "\n",
    "# Inisialisasi array untuk menyimpan polinomial Hermite\n",
    "Hs = np.zeros((6, len(x)))  # Array untuk menyimpan H0 hingga H5\n",
    "\n",
    "# Mengisi nilai awal untuk H0 dan H1\n",
    "Hs[0, :] = 1  # H0(x) = 1\n",
    "Hs[1, :] = 2 * x  # H1(x) = 2x\n",
    "\n",
    "# Menghitung polinomial Hermite menggunakan relasi rekurensi\n",
    "for n in range(2, 6):  # Dari n=2 hingga n=5\n",
    "    tmp = Hs[n-1, :]  # H_{n-1}\n",
    "    tmp = tmp * 2 * x  # Mengalikan H_{n-1} dengan 2x\n",
    "    Hs[n, :] = 2 * tmp - 2 * (n-1) * Hs[n-2, :]  # Eq. (3.3.66): H_{n+1} = 2x H_n - 2n H_{n-1}\n",
    "\n",
    "# Evaluasi polinomial Hermite menggunakan polyval (disesuaikan dengan array)\n",
    "H = []\n",
    "for n in range(6):\n",
    "    H.append(Hs[n, :])\n",
    "\n",
    "# Plotting\n",
    "plt.figure()\n",
    "for n in range(6):\n",
    "    plt.plot(x, H[n], label=f'H_{n}(x)')\n",
    "plt.legend()\n",
    "plt.xlabel('x')\n",
    "plt.ylabel('H_n(x)')\n",
    "plt.title('Plot Polinomial Hermite derajat n=0:5')\n",
    "plt.axis([-2, 2, -40, 80])  # Sumbu x dari -2 hingga 2, sumbu y dari -40 hingga 80\n",
    "plt.grid(True)\n",
    "plt.show()"
   ]
  },
  {
   "cell_type": "markdown",
   "id": "356e5428",
   "metadata": {},
   "source": [
    "Catatan bahwa polinomial Hermite ortogonal w.r.t. fungsi berat $ e^{-x^2} $ dalam arti bahwa\n",
    "$$\\int_{-\\infty}^{\\infty} H_m(x) H_n(x) e^{-x^2} \\, dx = \\begin{cases} \n",
    "0 & \\text{jika } m \\neq n \\\\\n",
    "\\sqrt{\\pi} 2^n n! & \\text{jika } m = n \n",
    "\\end{cases}$$\n",
    "(3.3.69)\n",
    "\n",
    "Gambar 3.19 menunjukkan grafik polinomial Hermite untuk $ n=0:4 $ yang diperoleh dengan menjalankan skrip \"plot_Hermite_poly.m\", di mana polinomial Hermite dihitung dua kali, sekali menggunakan fungsi MATLAB \"mfun('H', n-1, x)\" dan sekali lagi menggunakan relasi rekurensi (3.3.66)."
   ]
  },
  {
   "cell_type": "markdown",
   "id": "9777cfb9",
   "metadata": {},
   "source": [
    "## 3.3.5 Persamaan Diferensial Laguerre"
   ]
  },
  {
   "cell_type": "markdown",
   "id": "2616037c",
   "metadata": {},
   "source": [
    "Persamaan diferensial Laguerre orde $ n $ adalah\n",
    "$$x (1 - x) y'' + y' - n y = 0 \\quad \\text{untuk } x > 0 \\text{ dan } n \\text{ bilangan bulat non-negatif}$$\n",
    "(3.3.70)"
   ]
  },
  {
   "cell_type": "markdown",
   "id": "e4b59a84",
   "metadata": {},
   "source": [
    "Sebuah solusi dari persamaan ini dapat ditemukan dengan mensubstitusikan deret pangkat untuk $ y $,\n",
    "$$y = \\sum_{m=0}^{\\infty} c_m x^m$$\n",
    "(3.3.71)"
   ]
  },
  {
   "cell_type": "markdown",
   "id": "6786630c",
   "metadata": {},
   "source": [
    "sebagai solusi yang diasumsikan:\n",
    "$$\\sum_{m=0}^{\\infty} c_m m(m-1) x^{m-2} + (1 - x) \\sum_{m=1}^{\\infty} c_m m x^{m-1} - n \\sum_{m=0}^{\\infty} c_m x^m = 0$$\n",
    "$$\\Rightarrow \\sum_{m=0}^{\\infty} [c_{m+2} (m+2)(m+1) x^m + c_m m x^m - c_m m x^m - n c_m x^m] = 0$$\n",
    "$$\\Rightarrow \\sum_{m=0}^{\\infty} [c_{m+1} (m+1) - c_m (m+1) - n c_m + n c_m] x^m = 0$$\n",
    "(3.3.72)"
   ]
  },
  {
   "cell_type": "markdown",
   "id": "306e495d",
   "metadata": {},
   "source": [
    "Ini menghasilkan\n",
    "$$c_{m+2} = \\frac{m - n}{(m+1)(m+2)} c_m \\quad \\text{untuk } m = 0, 1, 2, \\ldots \\text{: relasi rekurensi}$$\n",
    "(3.3.73)"
   ]
  },
  {
   "cell_type": "markdown",
   "id": "8658d993",
   "metadata": {},
   "source": [
    "Dengan koefisien sewenang-wenang $ c_0 $, Persamaan (3.3.71) menghasilkan solusi umum sebagai\n",
    "$$y(x) = c_0 \\left[ 1 - n x + \\frac{(1-n)n}{2^2} x^2 + \\frac{(2-n)(1-n)n}{3^2 2^2} x^3 + \\cdots \\right]$$\n",
    "(3.3.74)"
   ]
  },
  {
   "cell_type": "markdown",
   "id": "86758e4d",
   "metadata": {},
   "source": [
    "yang menjadi polinomial Laguerre $ L_n(x) $ derajat $ n $. Polinomial Laguerre pertama beberapa adalah\n",
    "$$\\begin{array}{l}\n",
    "L_0(x) = 1 \\\\\n",
    "L_1(x) = 1 - x \\\\\n",
    "L_2(x) = \\frac{1}{2} (1 - 4x + 2x^2) \\\\\n",
    "L_3(x) = \\frac{1}{6} (1 - 9x + 9x^2 - 2x^3)\n",
    "\\end{array}$$\n",
    "(3.3.75)"
   ]
  },
  {
   "cell_type": "markdown",
   "id": "b353ad8f",
   "metadata": {},
   "source": [
    "Polinomial Laguerre dapat dihasilkan dengan menggunakan relasi rekurensi tiga suku berikut:\n",
    "$$L_{n+1}(x) = \\frac{1}{n+1} \\left[ (1 + 2n - x) L_n(x) - n L_{n-1}(x) \\right] \\quad \\text{dengan } L_1(x) = 1 - x \\quad \\text{dan } L_0(x) = 1$$\n",
    "(3.3.76)"
   ]
  },
  {
   "cell_type": "code",
   "execution_count": null,
   "id": "03c7b20b",
   "metadata": {},
   "outputs": [],
   "source": [
    "import numpy as np\n",
    "import matplotlib.pyplot as plt\n",
    "\n",
    "# Rentang domain x\n",
    "x = np.arange(-2, 0.01, 0.01)  # Domain dari -2 hingga 0 dengan langkah 0.01\n",
    "\n",
    "# Inisialisasi array untuk menyimpan polinomial Laguerre\n",
    "Ls = np.zeros((6, len(x)))  # Array untuk menyimpan L0 hingga L5\n",
    "\n",
    "# Mengisi nilai awal untuk L0 dan L1\n",
    "Ls[0, :] = 1              # L0(x) = 1\n",
    "Ls[1, :] = 1 - x          # L1(x) = 1 - x\n",
    "\n",
    "# Menghitung polinomial Laguerre menggunakan relasi rekurensi\n",
    "for n in range(2, 6):  # Dari n=2 hingga n=5\n",
    "    tmp = Ls[n-1, :]  # L_{n-1}\n",
    "    tmp = (1 + 2*(n-2) - x) * tmp - (n-2) * Ls[n-2, :]  # (1 + 2(n-1) - x) L_{n-1} - (n-1) L_{n-2}\n",
    "    Ls[n, :] = tmp / (n-1)  # Bagi dengan (n-1) sesuai relasi rekurensi\n",
    "\n",
    "# Evaluasi polinomial Laguerre\n",
    "L = []\n",
    "for n in range(6):\n",
    "    L.append(Ls[n, :])\n",
    "\n",
    "# Plotting\n",
    "plt.figure(figsize=(8, 6))\n",
    "for n in range(6):\n",
    "    plt.plot(x, L[n], label=f'L_{n}(x)')\n",
    "plt.legend()\n",
    "plt.xlabel('x')\n",
    "plt.ylabel('L_n(x)')\n",
    "plt.title('Plot Laguerre polynomials of degree n=0:5')\n",
    "plt.grid(True)\n",
    "# Sesuaikan sumbu berdasarkan data, atau gunakan batas manual jika diperlukan\n",
    "plt.axis([-2, 0, -1, 2])  # Sumbu x dari -2 hingga 0, sumbu y disesuaikan\n",
    "plt.show()"
   ]
  },
  {
   "cell_type": "markdown",
   "id": "e78f0c78",
   "metadata": {},
   "source": [
    "atau dengan rumus tipe Rodrigues\n",
    "$$L_n(x) = e^x \\frac{d^n}{dx^n} (x^n e^{-x}) \\quad \\text{untuk } n = 0, 1, 2, \\ldots$$\n",
    "(3.3.77)"
   ]
  },
  {
   "cell_type": "markdown",
   "id": "76f50a59",
   "metadata": {},
   "source": [
    "atau dengan rumus eksplisit\n",
    "$$L_n(x) = \\sum_{m=0}^{n} (-1)^m \\frac{(n!)^2}{(m!)^2 (n-m)!} x^m \\quad \\text{untuk } n = 0, 1, 2, \\ldots$$\n",
    "(3.3.78)"
   ]
  },
  {
   "cell_type": "markdown",
   "id": "a0175f2c",
   "metadata": {},
   "source": [
    "Catatan bahwa polinomial Laguerre ortogonal w.r.t. fungsi berat $ e^{-x} $ dalam arti bahwa\n",
    "$$\\int_0^{\\infty} L_m(x) L_n(x) e^{-x} \\, dx = \\begin{cases} \n",
    "0 & \\text{jika } m \\neq n \\\\\n",
    "1 & \\text{jika } m = n \n",
    "\\end{cases}$$\n",
    "(3.3.79)"
   ]
  },
  {
   "cell_type": "markdown",
   "id": "86e3c403",
   "metadata": {},
   "source": [
    "Gambar 3.20 menunjukkan grafik polinomial Laguerre untuk $ n=0:5 $ yang diperoleh dengan menjalankan skrip \"plot_Laguerre_poly.m,\" di mana polinomial Laguerre dihitung dua kali, sekali menggunakan fungsi MATLAB \"mfun('L', n-1, x)\" dan sekali lagi menggunakan relasi rekurensi (3.3.76)."
   ]
  }
 ],
 "metadata": {
  "kernelspec": {
   "display_name": ".venv (3.13.2)",
   "language": "python",
   "name": "python3"
  },
  "language_info": {
   "name": "python",
   "version": "3.13.2"
  }
 },
 "nbformat": 4,
 "nbformat_minor": 5
}
